{
 "cells": [
  {
   "cell_type": "code",
   "execution_count": 1,
   "metadata": {},
   "outputs": [],
   "source": [
    "import nltk\n",
    "from nltk.tokenize import word_tokenize\n",
    "from nltk.tag import pos_tag\n",
    "from nltk.chunk import ne_chunk"
   ]
  },
  {
   "cell_type": "code",
   "execution_count": 2,
   "metadata": {},
   "outputs": [],
   "source": [
    "#sentence = 'President Karzai thanked his allies for their help in battling terrorism.'\n",
    "sentence = \"Burma's military government said today that ex-Prime Minister Khin Nyunt was ousted last month because his investigations of military commanders threatened the unity of the armed forces.\""
   ]
  },
  {
   "cell_type": "code",
   "execution_count": 3,
   "metadata": {},
   "outputs": [],
   "source": [
    "def preprocess(sent):\n",
    "    sent = nltk.word_tokenize(sent)\n",
    "    sent = nltk.pos_tag(sent)\n",
    "    return sent"
   ]
  },
  {
   "cell_type": "code",
   "execution_count": 4,
   "metadata": {},
   "outputs": [
    {
     "data": {
      "text/plain": [
       "[('Burma', 'NNP'),\n",
       " (\"'s\", 'POS'),\n",
       " ('military', 'JJ'),\n",
       " ('government', 'NN'),\n",
       " ('said', 'VBD'),\n",
       " ('today', 'NN'),\n",
       " ('that', 'IN'),\n",
       " ('ex-Prime', 'JJ'),\n",
       " ('Minister', 'NNP'),\n",
       " ('Khin', 'NNP'),\n",
       " ('Nyunt', 'NNP'),\n",
       " ('was', 'VBD'),\n",
       " ('ousted', 'VBN'),\n",
       " ('last', 'JJ'),\n",
       " ('month', 'NN'),\n",
       " ('because', 'IN'),\n",
       " ('his', 'PRP$'),\n",
       " ('investigations', 'NNS'),\n",
       " ('of', 'IN'),\n",
       " ('military', 'JJ'),\n",
       " ('commanders', 'NNS'),\n",
       " ('threatened', 'VBD'),\n",
       " ('the', 'DT'),\n",
       " ('unity', 'NN'),\n",
       " ('of', 'IN'),\n",
       " ('the', 'DT'),\n",
       " ('armed', 'JJ'),\n",
       " ('forces', 'NNS'),\n",
       " ('.', '.')]"
      ]
     },
     "execution_count": 4,
     "metadata": {},
     "output_type": "execute_result"
    }
   ],
   "source": [
    "sent = preprocess(sentence)\n",
    "sent"
   ]
  },
  {
   "cell_type": "code",
   "execution_count": 5,
   "metadata": {},
   "outputs": [],
   "source": [
    "pattern = 'NP: {<JJ>*<NNP>*<NNP>}'"
   ]
  },
  {
   "cell_type": "code",
   "execution_count": 6,
   "metadata": {},
   "outputs": [
    {
     "name": "stdout",
     "output_type": "stream",
     "text": [
      "(S\n",
      "  (NP Burma/NNP)\n",
      "  's/POS\n",
      "  military/JJ\n",
      "  government/NN\n",
      "  said/VBD\n",
      "  today/NN\n",
      "  that/IN\n",
      "  (NP ex-Prime/JJ Minister/NNP Khin/NNP Nyunt/NNP)\n",
      "  was/VBD\n",
      "  ousted/VBN\n",
      "  last/JJ\n",
      "  month/NN\n",
      "  because/IN\n",
      "  his/PRP$\n",
      "  investigations/NNS\n",
      "  of/IN\n",
      "  military/JJ\n",
      "  commanders/NNS\n",
      "  threatened/VBD\n",
      "  the/DT\n",
      "  unity/NN\n",
      "  of/IN\n",
      "  the/DT\n",
      "  armed/JJ\n",
      "  forces/NNS\n",
      "  ./.)\n"
     ]
    }
   ],
   "source": [
    "cp = nltk.RegexpParser(pattern)\n",
    "cs = cp.parse(sent)\n",
    "print(cs)"
   ]
  },
  {
   "cell_type": "code",
   "execution_count": null,
   "metadata": {},
   "outputs": [],
   "source": [
    "from nltk.chunk import conlltags2tree, tree2conlltags\n",
    "from pprint import pprint\n",
    "iob_tagged = tree2conlltags(cs)\n",
    "pprint(iob_tagged)"
   ]
  },
  {
   "cell_type": "code",
   "execution_count": null,
   "metadata": {},
   "outputs": [],
   "source": [
    "import spacy\n",
    "from spacy import displacy\n",
    "from collections import Counter\n",
    "import en_core_web_lg\n",
    "nlp = en_core_web_lg.load()"
   ]
  },
  {
   "cell_type": "code",
   "execution_count": null,
   "metadata": {},
   "outputs": [],
   "source": [
    "doc = nlp(sentence)\n",
    "pprint([(X.text, X.label_) for X in doc.ents])"
   ]
  },
  {
   "cell_type": "code",
   "execution_count": null,
   "metadata": {},
   "outputs": [],
   "source": [
    "pprint([(X, X.ent_iob_, X.ent_type_) for X in doc])"
   ]
  },
  {
   "cell_type": "code",
   "execution_count": null,
   "metadata": {},
   "outputs": [],
   "source": [
    "displacy.render(nlp(sentence), jupyter=True, style='ent')"
   ]
  },
  {
   "cell_type": "code",
   "execution_count": null,
   "metadata": {},
   "outputs": [],
   "source": [
    "displacy.render(nlp(sentence), style='dep', jupyter = True, options = {'distance': 120})"
   ]
  },
  {
   "cell_type": "code",
   "execution_count": null,
   "metadata": {},
   "outputs": [],
   "source": [
    "[(x.orth_,x.pos_, x.lemma_) for x in [y \n",
    "                                      for y\n",
    "                                      in nlp(sentence) \n",
    "                                      if not y.is_stop and y.pos_ != 'PUNCT']]"
   ]
  },
  {
   "cell_type": "code",
   "execution_count": null,
   "metadata": {},
   "outputs": [],
   "source": []
  }
 ],
 "metadata": {
  "kernelspec": {
   "display_name": "Python 3",
   "language": "python",
   "name": "python3"
  },
  "language_info": {
   "codemirror_mode": {
    "name": "ipython",
    "version": 3
   },
   "file_extension": ".py",
   "mimetype": "text/x-python",
   "name": "python",
   "nbconvert_exporter": "python",
   "pygments_lexer": "ipython3",
   "version": "3.6.8"
  }
 },
 "nbformat": 4,
 "nbformat_minor": 2
}
